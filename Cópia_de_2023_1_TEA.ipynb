{
  "nbformat": 4,
  "nbformat_minor": 0,
  "metadata": {
    "colab": {
      "provenance": [],
      "include_colab_link": true
    },
    "kernelspec": {
      "name": "python3",
      "display_name": "Python 3"
    },
    "language_info": {
      "name": "python"
    }
  },
  "cells": [
    {
      "cell_type": "markdown",
      "metadata": {
        "id": "view-in-github",
        "colab_type": "text"
      },
      "source": [
        "<a href=\"https://colab.research.google.com/github/robertoleonie/TEA_2023.1/blob/main/C%C3%B3pia_de_2023_1_TEA.ipynb\" target=\"_parent\"><img src=\"https://colab.research.google.com/assets/colab-badge.svg\" alt=\"Open In Colab\"/></a>"
      ]
    },
    {
      "cell_type": "markdown",
      "source": [
        "## Complexidade de Algoritmos - por que se importar?\n",
        "- Eficiência (fazer mais com menos)\n",
        "- Escalabilidade (há coisas que o dinheiro não pode comprar)\n",
        "- Possibilidade de se comparar soluções antes mesmo de codá-las\n",
        "- Ir bem em coding interviews (https://vigusmao.github.io/cursos/google_interview_tips.pdf)\n",
        "\n",
        "## Notação O (\"Big-O\") na prática\n",
        "Quantas operações serão executadas em cada trecho de código abaixo"
      ],
      "metadata": {
        "id": "NyfbjStqy9JN"
      }
    },
    {
      "cell_type": "code",
      "execution_count": null,
      "metadata": {
        "id": "qayU-y-Tyy35"
      },
      "outputs": [],
      "source": [
        "from time import time\n",
        "\n",
        "def do_something_A(x):  # O(x^2)\n",
        "    count = 0\n",
        "    for i in range(1, x+1): \n",
        "        for j in range(1, x+1):  \n",
        "            count += 1\n",
        "    return count\n",
        "\n",
        "def do_something_B(x):  # O(x^2)\n",
        "    count = 0\n",
        "    for i in range(1, x+1): \n",
        "        for j in range(i+1, x+1):  \n",
        "            count += 1\n",
        "    return count\n",
        "\n",
        "def do_something_C(x):  # O(x log x)\n",
        "    count = 0\n",
        "    for i in range(1, x+1):  \n",
        "        for j in range(1, x+1, i):\n",
        "            count += 1\n",
        "    return count\n",
        "\n",
        "def do_something_D(x):  # O(x)\n",
        "    count = 0\n",
        "    while x > 0:\n",
        "        count += 1\n",
        "        x -= 1\n",
        "    return count\n",
        "\n",
        "def do_something_E(x):  # O(x)\n",
        "    count = 0\n",
        "    while x > 0:\n",
        "        count += 1\n",
        "        x -= 2\n",
        "    return count\n",
        "\n",
        "def do_something_F(x):  # O(log x)\n",
        "    count = 0\n",
        "    while x > 0:\n",
        "        count += 1\n",
        "        x //= 2\n",
        "    return count\n",
        "\n",
        "def do_something_G(x):  # O(2^x)\n",
        "    def do_something_recursively(x):\n",
        "        if x > 0:\n",
        "            return 1 + do_something_recursively(x-1) + \\\n",
        "                       do_something_recursively(x-1)\n",
        "        return 1\n",
        "    return do_something_recursively(x)"
      ]
    },
    {
      "cell_type": "markdown",
      "source": [
        "Nota sobre `do_something_C`:\n",
        "\n",
        "$\\sum_{i=1,\\ldots,x} x/i = x \\sum_{i=1,\\ldots,x} 1/i = x H(x) = O(x \\log x)$,\n",
        "\n",
        "onde $H(x)$ é o $x$-ésimo número harmônico, que é aproximadamente igual a $\\ln x$."
      ],
      "metadata": {
        "id": "LKfsTsQKy7fA"
      }
    },
    {
      "cell_type": "markdown",
      "source": [
        "Vamos checar.\n",
        "\n",
        "Antes, vamos acrescentar alguma instrumentação."
      ],
      "metadata": {
        "id": "FDIgtYx30UZq"
      }
    },
    {
      "cell_type": "code",
      "source": [
        "def run(functions, clock=False):\n",
        "    while True:\n",
        "        input_values = eval(input(\"Input values (iterable): \"))\n",
        "        if input_values == 0:\n",
        "            break\n",
        "        \n",
        "        # processes each input value\n",
        "        results = []\n",
        "        for n in input_values:\n",
        "            row = [str(n)]\n",
        "            for f in functions:\n",
        "                start = time()\n",
        "                result = str(f[0](n))\n",
        "                duration = time() - start\n",
        "                if clock:\n",
        "                    result += ' (' + (\"%.6f\" % duration) + ')'\n",
        "                row.append(result)\n",
        "            results.append(row)\n",
        "\n",
        "        # computes the maximum length on each column\n",
        "        lengths = [max((len(\"%s\" % row[column]) for row in results)) \n",
        "            for column in range(len(functions) + 1)]    \n",
        "\n",
        "        # prints the results\n",
        "        msg_format = \"\".join(\n",
        "            [\"%%%d\" % max(11, length + 2) + \"s\" for length in lengths])\n",
        "        print(\"\\n\" + msg_format % tuple([\"n\"] + [f[1] for f in functions]))  \n",
        "        for row in results:\n",
        "            print(msg_format % tuple(row))\n",
        "        print(\"\\n\")\n"
      ],
      "metadata": {
        "id": "wVeuC4tV06vu"
      },
      "execution_count": null,
      "outputs": []
    },
    {
      "cell_type": "markdown",
      "source": [
        "E agora vamos rodar."
      ],
      "metadata": {
        "id": "5tce6RWM1CMz"
      }
    },
    {
      "cell_type": "code",
      "source": [
        "functions = [\n",
        "    (do_something_A, \"O(x^2)\"),\n",
        "    (do_something_B, \"O(x^2)\"),\n",
        "    (do_something_C, \"O(x log x)\"),\n",
        "    (do_something_D, \"O(x)\"),\n",
        "    (do_something_E, \"O(x)\"),\n",
        "    (do_something_F, \"O(log x)\"),\n",
        "    # (do_something_G, \"O(2^x)\"),\n",
        "    ]\n",
        "\n",
        "run(functions, clock=False)"
      ],
      "metadata": {
        "id": "uaXIF-Y01FkC"
      },
      "execution_count": null,
      "outputs": []
    },
    {
      "cell_type": "markdown",
      "source": [
        "P: Mas e o verdadeiro custo de cada \"operação\"?\n",
        "\n",
        "R: Esqueça. Não vai fazer diferença.\n",
        "\n",
        "P: E as constantes multiplicativas e aditivas?\n",
        "\n",
        "R: Não damos a mínima.\n",
        "\n",
        "**Obs.: Quando estiver comparando algoritmos com complexidades assintóticas distintas, e se você tem preocupações sobre escalabilidade, isto é, se suas entradas não são ridiculamente pequenas.**\n",
        "\n",
        "Vamos ver agora os valores produzidos por algumas funções comuns usadas para denotar complexidades assintóticas. Podemos brincar com elas um pouco, adicionando constantes.\n"
      ],
      "metadata": {
        "id": "nEPD8MPr1SMm"
      }
    },
    {
      "cell_type": "code",
      "source": [
        "from math import *\n",
        "\n",
        "def exponential(n):\n",
        "    return 2**n\n",
        "\n",
        "def cubic(n):\n",
        "    return n**3\n",
        "    \n",
        "def quadratic(n):\n",
        "    return 3 * n**2 + 10*n\n",
        "    \n",
        "def nlogn(n):\n",
        "    return 100*n * ceil(log(n, 2)) + 5000\n",
        "    \n",
        "def linear(n):\n",
        "    return 10*n+200\n",
        "    \n",
        "def sqrtn(n):\n",
        "    return 80*ceil(sqrt(n))\n",
        "    \n",
        "def logn(n):\n",
        "    return 100*ceil(log(n, 2))\n",
        "    \n",
        "def constant(n):\n",
        "    return 1500\n",
        "\n",
        "functions = [\n",
        "    # (exponential, \"O(2^n)\"),\n",
        "    (cubic, \"O(n^3)\"),\n",
        "    (quadratic, \"O(n^2)\"),\n",
        "    (nlogn, \"O(n log n)\"),\n",
        "    (linear, \"O(n)\"),\n",
        "    (sqrtn, \"O(sqrt n)\"),\n",
        "    (logn, \"O(log n)\"),\n",
        "    (constant, \"O(1)\"),\n",
        "    ]\n",
        "\n",
        "run(functions, clock=False)"
      ],
      "metadata": {
        "colab": {
          "base_uri": "https://localhost:8080/",
          "height": 607
        },
        "id": "7aW7Q7G42qTt",
        "outputId": "0e255b72-8d20-4800-9678-552c3b500847"
      },
      "execution_count": null,
      "outputs": [
        {
          "output_type": "stream",
          "name": "stdout",
          "text": [
            "Input values (iterable): (10**k for k in range(10))\n",
            "\n",
            "           n                        O(n^3)               O(n^2)     O(n log n)         O(n)  O(sqrt n)   O(log n)       O(1)\n",
            "           1                             1                 1003           5000          210         80          0         15\n",
            "          10                          1000                 1300           9000          300        320        400         15\n",
            "         100                       1000000                31000          75000         1200        800        700         15\n",
            "        1000                    1000000000              3001000        1005000        10200       2560       1000         15\n",
            "       10000                 1000000000000            300001000       14005000       100200       8000       1400         15\n",
            "      100000              1000000000000000          30000001000      170005000      1000200      25360       1700         15\n",
            "     1000000           1000000000000000000        3000000001000     2000005000     10000200      80000       2000         15\n",
            "    10000000        1000000000000000000000      300000000001000    24000005000    100000200     253040       2400         15\n",
            "   100000000     1000000000000000000000000    30000000000001000   270000005000   1000000200     800000       2700         15\n",
            "  1000000000  1000000000000000000000000000  3000000000000001000  3000000005000  10000000200    2529840       3000         15\n",
            "\n",
            "\n"
          ]
        },
        {
          "output_type": "error",
          "ename": "KeyboardInterrupt",
          "evalue": "ignored",
          "traceback": [
            "\u001b[0;31m---------------------------------------------------------------------------\u001b[0m",
            "\u001b[0;31mKeyboardInterrupt\u001b[0m                         Traceback (most recent call last)",
            "\u001b[0;32m<ipython-input-10-7814a7ea44fd>\u001b[0m in \u001b[0;36m<cell line: 38>\u001b[0;34m()\u001b[0m\n\u001b[1;32m     36\u001b[0m     ]\n\u001b[1;32m     37\u001b[0m \u001b[0;34m\u001b[0m\u001b[0m\n\u001b[0;32m---> 38\u001b[0;31m \u001b[0mrun\u001b[0m\u001b[0;34m(\u001b[0m\u001b[0mfunctions\u001b[0m\u001b[0;34m,\u001b[0m \u001b[0mclock\u001b[0m\u001b[0;34m=\u001b[0m\u001b[0;32mFalse\u001b[0m\u001b[0;34m)\u001b[0m\u001b[0;34m\u001b[0m\u001b[0;34m\u001b[0m\u001b[0m\n\u001b[0m",
            "\u001b[0;32m<ipython-input-2-56d71301f919>\u001b[0m in \u001b[0;36mrun\u001b[0;34m(functions, clock)\u001b[0m\n\u001b[1;32m      1\u001b[0m \u001b[0;32mdef\u001b[0m \u001b[0mrun\u001b[0m\u001b[0;34m(\u001b[0m\u001b[0mfunctions\u001b[0m\u001b[0;34m,\u001b[0m \u001b[0mclock\u001b[0m\u001b[0;34m=\u001b[0m\u001b[0;32mFalse\u001b[0m\u001b[0;34m)\u001b[0m\u001b[0;34m:\u001b[0m\u001b[0;34m\u001b[0m\u001b[0;34m\u001b[0m\u001b[0m\n\u001b[1;32m      2\u001b[0m     \u001b[0;32mwhile\u001b[0m \u001b[0;32mTrue\u001b[0m\u001b[0;34m:\u001b[0m\u001b[0;34m\u001b[0m\u001b[0;34m\u001b[0m\u001b[0m\n\u001b[0;32m----> 3\u001b[0;31m         \u001b[0minput_values\u001b[0m \u001b[0;34m=\u001b[0m \u001b[0meval\u001b[0m\u001b[0;34m(\u001b[0m\u001b[0minput\u001b[0m\u001b[0;34m(\u001b[0m\u001b[0;34m\"Input values (iterable): \"\u001b[0m\u001b[0;34m)\u001b[0m\u001b[0;34m)\u001b[0m\u001b[0;34m\u001b[0m\u001b[0;34m\u001b[0m\u001b[0m\n\u001b[0m\u001b[1;32m      4\u001b[0m         \u001b[0;32mif\u001b[0m \u001b[0minput_values\u001b[0m \u001b[0;34m==\u001b[0m \u001b[0;36m0\u001b[0m\u001b[0;34m:\u001b[0m\u001b[0;34m\u001b[0m\u001b[0;34m\u001b[0m\u001b[0m\n\u001b[1;32m      5\u001b[0m             \u001b[0;32mbreak\u001b[0m\u001b[0;34m\u001b[0m\u001b[0;34m\u001b[0m\u001b[0m\n",
            "\u001b[0;32m/usr/local/lib/python3.9/dist-packages/ipykernel/kernelbase.py\u001b[0m in \u001b[0;36mraw_input\u001b[0;34m(self, prompt)\u001b[0m\n\u001b[1;32m    849\u001b[0m                 \u001b[0;34m\"raw_input was called, but this frontend does not support input requests.\"\u001b[0m\u001b[0;34m\u001b[0m\u001b[0;34m\u001b[0m\u001b[0m\n\u001b[1;32m    850\u001b[0m             )\n\u001b[0;32m--> 851\u001b[0;31m         return self._input_request(str(prompt),\n\u001b[0m\u001b[1;32m    852\u001b[0m             \u001b[0mself\u001b[0m\u001b[0;34m.\u001b[0m\u001b[0m_parent_ident\u001b[0m\u001b[0;34m,\u001b[0m\u001b[0;34m\u001b[0m\u001b[0;34m\u001b[0m\u001b[0m\n\u001b[1;32m    853\u001b[0m             \u001b[0mself\u001b[0m\u001b[0;34m.\u001b[0m\u001b[0m_parent_header\u001b[0m\u001b[0;34m,\u001b[0m\u001b[0;34m\u001b[0m\u001b[0;34m\u001b[0m\u001b[0m\n",
            "\u001b[0;32m/usr/local/lib/python3.9/dist-packages/ipykernel/kernelbase.py\u001b[0m in \u001b[0;36m_input_request\u001b[0;34m(self, prompt, ident, parent, password)\u001b[0m\n\u001b[1;32m    893\u001b[0m             \u001b[0;32mexcept\u001b[0m \u001b[0mKeyboardInterrupt\u001b[0m\u001b[0;34m:\u001b[0m\u001b[0;34m\u001b[0m\u001b[0;34m\u001b[0m\u001b[0m\n\u001b[1;32m    894\u001b[0m                 \u001b[0;31m# re-raise KeyboardInterrupt, to truncate traceback\u001b[0m\u001b[0;34m\u001b[0m\u001b[0;34m\u001b[0m\u001b[0m\n\u001b[0;32m--> 895\u001b[0;31m                 \u001b[0;32mraise\u001b[0m \u001b[0mKeyboardInterrupt\u001b[0m\u001b[0;34m(\u001b[0m\u001b[0;34m\"Interrupted by user\"\u001b[0m\u001b[0;34m)\u001b[0m \u001b[0;32mfrom\u001b[0m \u001b[0;32mNone\u001b[0m\u001b[0;34m\u001b[0m\u001b[0;34m\u001b[0m\u001b[0m\n\u001b[0m\u001b[1;32m    896\u001b[0m             \u001b[0;32mexcept\u001b[0m \u001b[0mException\u001b[0m \u001b[0;32mas\u001b[0m \u001b[0me\u001b[0m\u001b[0;34m:\u001b[0m\u001b[0;34m\u001b[0m\u001b[0;34m\u001b[0m\u001b[0m\n\u001b[1;32m    897\u001b[0m                 \u001b[0mself\u001b[0m\u001b[0;34m.\u001b[0m\u001b[0mlog\u001b[0m\u001b[0;34m.\u001b[0m\u001b[0mwarning\u001b[0m\u001b[0;34m(\u001b[0m\u001b[0;34m\"Invalid Message:\"\u001b[0m\u001b[0;34m,\u001b[0m \u001b[0mexc_info\u001b[0m\u001b[0;34m=\u001b[0m\u001b[0;32mTrue\u001b[0m\u001b[0;34m)\u001b[0m\u001b[0;34m\u001b[0m\u001b[0;34m\u001b[0m\u001b[0m\n",
            "\u001b[0;31mKeyboardInterrupt\u001b[0m: Interrupted by user"
          ]
        }
      ]
    },
    {
      "cell_type": "markdown",
      "source": [
        "## Exemplo 1: O problema dos armários\n",
        "\n",
        "Em um vestiário, existem $n$ armários inicialmente fechados e numerados de 1 a $n$. Existem também $n$ crianças. A criança número 1 entra no vestiário e abre todos os armários. A seguir, a criança 2 entra no vestiário e fecha todos os armários que são múltiplos de 2. Entra então a criança 3 e muda o estado de todos os armários que são múltiplos de 3. E assim sucessivamente, com a criança $j$ mudando o estado de todos os armários que são múltiplos de $j$, para todo $j$ de 1 a $n$. No final, após a $n$-ésima criança terminar, que armários estarão abertos? Como você abordaria esse problema computacionalmente?"
      ],
      "metadata": {
        "id": "3s8YcZNx24tA"
      }
    },
    {
      "cell_type": "code",
      "source": [
        "from math import sqrt\n",
        "\n",
        "def lockers_A(n):  # O(n^2)\n",
        "    states = [False] * (n+1)\n",
        "    for kid in range(1, n+1):\n",
        "        for locker in range(1, n+1):\n",
        "            if locker % kid == 0:\n",
        "                states[locker] = not states[locker]\n",
        "    count = 0\n",
        "    for s in states:\n",
        "        if s:\n",
        "            count += 1\n",
        "    return count\n",
        "\n",
        "def lockers_B(n):  # O(n log n)\n",
        "    states = [False] * (n+1)\n",
        "    for kid in range(1, n+1):\n",
        "        for locker in range(kid, n+1, kid):\n",
        "            states[locker] = not states[locker]\n",
        "    count = 0\n",
        "    for s in states:\n",
        "        if s:\n",
        "            count += 1\n",
        "    return count\n",
        "\n",
        "def lockers_C(n):  # O(n)\n",
        "    count = 0\n",
        "    for locker in range(1, n+1):\n",
        "        sqrroot = int(sqrt(locker))\n",
        "        if sqrroot * sqrroot == locker:\n",
        "            count += 1\n",
        "    return count\n",
        "\n",
        "def lockers_D(n):  # O(n^0.5)\n",
        "    count = 0\n",
        "    base = 1\n",
        "    locker = 1\n",
        "    while locker <= n:\n",
        "        count += 1\n",
        "        base += 1\n",
        "        locker = base * base\n",
        "    return count\n",
        "\n",
        "def lockers_E(n):\n",
        "    return int(sqrt(n))\n",
        "\n",
        "\n",
        "functions = [\n",
        "    # (lockers_A, \"O(n^2)\"),\n",
        "    # (lockers_B, \"O(n log n)\"),\n",
        "    (lockers_C, \"O(n)\"),\n",
        "    (lockers_D, \"O(sqrt(n))\"),\n",
        "    (lockers_E, \"O(1)\"),\n",
        "    ]\n",
        "\n",
        "run(functions, True)"
      ],
      "metadata": {
        "colab": {
          "base_uri": "https://localhost:8080/",
          "height": 485
        },
        "id": "f6Zha1nn4qJq",
        "outputId": "3334ae15-05fe-45ee-9e53-f69d042cc871"
      },
      "execution_count": null,
      "outputs": [
        {
          "output_type": "stream",
          "name": "stdout",
          "text": [
            "Input values (iterable): 1000000, 2000000, 4000000\n",
            "\n",
            "          n             O(n)       O(sqrt(n))             O(1)\n",
            "    1000000  1000 (0.233060)  1000 (0.000167)  1000 (0.000002)\n",
            "    2000000  1414 (0.423854)  1414 (0.000230)  1414 (0.000002)\n",
            "    4000000  2000 (1.818996)  2000 (0.000623)  2000 (0.000003)\n",
            "\n",
            "\n"
          ]
        },
        {
          "output_type": "error",
          "ename": "KeyboardInterrupt",
          "evalue": "ignored",
          "traceback": [
            "\u001b[0;31m---------------------------------------------------------------------------\u001b[0m",
            "\u001b[0;31mKeyboardInterrupt\u001b[0m                         Traceback (most recent call last)",
            "\u001b[0;32m<ipython-input-10-1e03aa0e5328>\u001b[0m in \u001b[0;36m<cell line: 56>\u001b[0;34m()\u001b[0m\n\u001b[1;32m     54\u001b[0m     ]\n\u001b[1;32m     55\u001b[0m \u001b[0;34m\u001b[0m\u001b[0m\n\u001b[0;32m---> 56\u001b[0;31m \u001b[0mrun\u001b[0m\u001b[0;34m(\u001b[0m\u001b[0mfunctions\u001b[0m\u001b[0;34m,\u001b[0m \u001b[0;32mTrue\u001b[0m\u001b[0;34m)\u001b[0m\u001b[0;34m\u001b[0m\u001b[0;34m\u001b[0m\u001b[0m\n\u001b[0m",
            "\u001b[0;32m<ipython-input-4-56d71301f919>\u001b[0m in \u001b[0;36mrun\u001b[0;34m(functions, clock)\u001b[0m\n\u001b[1;32m      1\u001b[0m \u001b[0;32mdef\u001b[0m \u001b[0mrun\u001b[0m\u001b[0;34m(\u001b[0m\u001b[0mfunctions\u001b[0m\u001b[0;34m,\u001b[0m \u001b[0mclock\u001b[0m\u001b[0;34m=\u001b[0m\u001b[0;32mFalse\u001b[0m\u001b[0;34m)\u001b[0m\u001b[0;34m:\u001b[0m\u001b[0;34m\u001b[0m\u001b[0;34m\u001b[0m\u001b[0m\n\u001b[1;32m      2\u001b[0m     \u001b[0;32mwhile\u001b[0m \u001b[0;32mTrue\u001b[0m\u001b[0;34m:\u001b[0m\u001b[0;34m\u001b[0m\u001b[0;34m\u001b[0m\u001b[0m\n\u001b[0;32m----> 3\u001b[0;31m         \u001b[0minput_values\u001b[0m \u001b[0;34m=\u001b[0m \u001b[0meval\u001b[0m\u001b[0;34m(\u001b[0m\u001b[0minput\u001b[0m\u001b[0;34m(\u001b[0m\u001b[0;34m\"Input values (iterable): \"\u001b[0m\u001b[0;34m)\u001b[0m\u001b[0;34m)\u001b[0m\u001b[0;34m\u001b[0m\u001b[0;34m\u001b[0m\u001b[0m\n\u001b[0m\u001b[1;32m      4\u001b[0m         \u001b[0;32mif\u001b[0m \u001b[0minput_values\u001b[0m \u001b[0;34m==\u001b[0m \u001b[0;36m0\u001b[0m\u001b[0;34m:\u001b[0m\u001b[0;34m\u001b[0m\u001b[0;34m\u001b[0m\u001b[0m\n\u001b[1;32m      5\u001b[0m             \u001b[0;32mbreak\u001b[0m\u001b[0;34m\u001b[0m\u001b[0;34m\u001b[0m\u001b[0m\n",
            "\u001b[0;32m/usr/local/lib/python3.9/dist-packages/ipykernel/kernelbase.py\u001b[0m in \u001b[0;36mraw_input\u001b[0;34m(self, prompt)\u001b[0m\n\u001b[1;32m    849\u001b[0m                 \u001b[0;34m\"raw_input was called, but this frontend does not support input requests.\"\u001b[0m\u001b[0;34m\u001b[0m\u001b[0;34m\u001b[0m\u001b[0m\n\u001b[1;32m    850\u001b[0m             )\n\u001b[0;32m--> 851\u001b[0;31m         return self._input_request(str(prompt),\n\u001b[0m\u001b[1;32m    852\u001b[0m             \u001b[0mself\u001b[0m\u001b[0;34m.\u001b[0m\u001b[0m_parent_ident\u001b[0m\u001b[0;34m,\u001b[0m\u001b[0;34m\u001b[0m\u001b[0;34m\u001b[0m\u001b[0m\n\u001b[1;32m    853\u001b[0m             \u001b[0mself\u001b[0m\u001b[0;34m.\u001b[0m\u001b[0m_parent_header\u001b[0m\u001b[0;34m,\u001b[0m\u001b[0;34m\u001b[0m\u001b[0;34m\u001b[0m\u001b[0m\n",
            "\u001b[0;32m/usr/local/lib/python3.9/dist-packages/ipykernel/kernelbase.py\u001b[0m in \u001b[0;36m_input_request\u001b[0;34m(self, prompt, ident, parent, password)\u001b[0m\n\u001b[1;32m    893\u001b[0m             \u001b[0;32mexcept\u001b[0m \u001b[0mKeyboardInterrupt\u001b[0m\u001b[0;34m:\u001b[0m\u001b[0;34m\u001b[0m\u001b[0;34m\u001b[0m\u001b[0m\n\u001b[1;32m    894\u001b[0m                 \u001b[0;31m# re-raise KeyboardInterrupt, to truncate traceback\u001b[0m\u001b[0;34m\u001b[0m\u001b[0;34m\u001b[0m\u001b[0m\n\u001b[0;32m--> 895\u001b[0;31m                 \u001b[0;32mraise\u001b[0m \u001b[0mKeyboardInterrupt\u001b[0m\u001b[0;34m(\u001b[0m\u001b[0;34m\"Interrupted by user\"\u001b[0m\u001b[0;34m)\u001b[0m \u001b[0;32mfrom\u001b[0m \u001b[0;32mNone\u001b[0m\u001b[0;34m\u001b[0m\u001b[0;34m\u001b[0m\u001b[0m\n\u001b[0m\u001b[1;32m    896\u001b[0m             \u001b[0;32mexcept\u001b[0m \u001b[0mException\u001b[0m \u001b[0;32mas\u001b[0m \u001b[0me\u001b[0m\u001b[0;34m:\u001b[0m\u001b[0;34m\u001b[0m\u001b[0;34m\u001b[0m\u001b[0m\n\u001b[1;32m    897\u001b[0m                 \u001b[0mself\u001b[0m\u001b[0;34m.\u001b[0m\u001b[0mlog\u001b[0m\u001b[0;34m.\u001b[0m\u001b[0mwarning\u001b[0m\u001b[0;34m(\u001b[0m\u001b[0;34m\"Invalid Message:\"\u001b[0m\u001b[0;34m,\u001b[0m \u001b[0mexc_info\u001b[0m\u001b[0;34m=\u001b[0m\u001b[0;32mTrue\u001b[0m\u001b[0;34m)\u001b[0m\u001b[0;34m\u001b[0m\u001b[0;34m\u001b[0m\u001b[0m\n",
            "\u001b[0;31mKeyboardInterrupt\u001b[0m: Interrupted by user"
          ]
        }
      ]
    },
    {
      "cell_type": "markdown",
      "source": [
        "## Exemplo 2: O problema da celebridade\n",
        "Em uma festa, defina uma celebridade como sendo alguém que é conhecido por todos os convidados, mas que não conhece nenhum deles. Dada uma matriz booleana $N$x$N$, onde a célula $i,j$ indica se o convidado $i$ conhece o convidado $j$, como você determinaria se existe na festa alguma celebridade?\n",
        "\n",
        "\n"
      ],
      "metadata": {
        "id": "3puitE5A41Fm"
      }
    },
    {
      "cell_type": "code",
      "source": [
        "from random import getrandbits\n",
        "from time import time\n",
        "\n",
        "def build_zeroes_matrix(n):\n",
        "    return [[False]*n for row in range(n)]\n",
        "\n",
        "def build_random_matrix(n):\n",
        "    matrix = []\n",
        "    for row_idx in range(n):\n",
        "        row = []\n",
        "        for col_idx in range(n):\n",
        "            row.append(getrandbits(1) == 1)\n",
        "        matrix.append(row)\n",
        "    return matrix\n",
        "\n",
        "def force_celebrity(matrix, celeb_idx):\n",
        "    n = len(matrix)\n",
        "    for guest in range(n):\n",
        "        matrix[celeb_idx][guest] = False\n",
        "        matrix[guest][celeb_idx] = True\n",
        "\n",
        "def check_celebrity(matrix, candidate):\n",
        "    n = len(matrix)\n",
        "\n",
        "    # verify row\n",
        "    for guest in range(n):\n",
        "        if guest == candidate:\n",
        "            continue\n",
        "        if matrix[candidate][guest]:\n",
        "            return False\n",
        "\n",
        "    # verify column\n",
        "    for guest in range(n):\n",
        "        if guest == candidate:\n",
        "            continue\n",
        "        if not matrix[guest][candidate]:\n",
        "            return False  \n",
        "              \n",
        "    return True\n",
        "\n",
        "def find_celebrity_A(matrix):  # O(n^2)\n",
        "    n = len(matrix)\n",
        "    for candidate in range(n):\n",
        "        if check_celebrity(matrix, candidate):\n",
        "            return candidate\n",
        "    return None\n",
        "\n",
        "def find_celebrity_B(matrix):  # O(n)\n",
        "    n = len(matrix)\n",
        "    candidate = 0\n",
        "    for guest in range(1, n):\n",
        "        if matrix[candidate][guest]:\n",
        "            candidate = guest\n",
        "    if check_celebrity(matrix, candidate):\n",
        "        return candidate\n",
        "    return None\n",
        "\n",
        "for n in (1000 * 2**k for k in range(4)):\n",
        "  m = build_zeroes_matrix(n)\n",
        "  force_celebrity(m, n-1)\n",
        "\n",
        "  print(\"\\n\\nn =\", n)\n",
        "  start = time()\n",
        "  print(find_celebrity_A(m))\n",
        "  print(time() - start)\n",
        "  start = time()\n",
        "  print(find_celebrity_B(m))\n",
        "  print(time() - start)\n",
        "\n",
        "\n"
      ],
      "metadata": {
        "colab": {
          "base_uri": "https://localhost:8080/"
        },
        "id": "xr0TEu2I5N3G",
        "outputId": "9773a512-38ec-46ec-f1b0-f6e06ae33b9c"
      },
      "execution_count": null,
      "outputs": [
        {
          "output_type": "stream",
          "name": "stdout",
          "text": [
            "\n",
            "\n",
            "n = 1000\n",
            "999\n",
            "0.3041250705718994\n",
            "999\n",
            "0.0007603168487548828\n",
            "\n",
            "\n",
            "n = 2000\n",
            "1999\n",
            "0.3626387119293213\n",
            "1999\n",
            "0.0009808540344238281\n",
            "\n",
            "\n",
            "n = 4000\n",
            "3999\n",
            "1.4782803058624268\n",
            "3999\n",
            "0.0021131038665771484\n",
            "\n",
            "\n",
            "n = 8000\n",
            "7999\n",
            "5.79651951789856\n",
            "7999\n",
            "0.004133701324462891\n"
          ]
        }
      ]
    }
  ]
}